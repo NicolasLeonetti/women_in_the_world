{
 "cells": [
  {
   "cell_type": "markdown",
   "source": [
    "# Scraping"
   ],
   "metadata": {
    "collapsed": false
   },
   "id": "b2cad76d028a9d08"
  },
  {
   "cell_type": "markdown",
   "source": [
    "## Importation des packages"
   ],
   "metadata": {
    "collapsed": false
   },
   "id": "c00193c7443b2901"
  },
  {
   "cell_type": "code",
   "execution_count": 1,
   "outputs": [
    {
     "name": "stderr",
     "output_type": "stream",
     "text": [
      "C:\\Users\\Nicolas et Maëva\\.conda\\envs\\Workspace\\lib\\site-packages\\numpy\\_distributor_init.py:30: UserWarning: loaded more than 1 DLL from .libs:\n",
      "C:\\Users\\Nicolas et Maëva\\.conda\\envs\\Workspace\\lib\\site-packages\\numpy\\.libs\\libopenblas.FB5AE2TYXYH2IJRDKGDGQ3XBKLKTF43H.gfortran-win_amd64.dll\n",
      "C:\\Users\\Nicolas et Maëva\\.conda\\envs\\Workspace\\lib\\site-packages\\numpy\\.libs\\libopenblas64__v0.3.23-gcc_10_3_0.dll\n",
      "  warnings.warn(\"loaded more than 1 DLL from .libs:\"\n"
     ]
    }
   ],
   "source": [
    "import pandas as pd\n",
    "import time\n",
    "from selenium import webdriver\n",
    "from selenium.webdriver.common.by import By\n",
    "from selenium.webdriver.support.ui import WebDriverWait\n",
    "from selenium.webdriver.support import expected_conditions as EC\n",
    "from selenium.common import TimeoutException\n",
    "from bs4 import BeautifulSoup\n",
    "import requests"
   ],
   "metadata": {
    "collapsed": false,
    "ExecuteTime": {
     "end_time": "2023-09-20T14:21:34.847589Z",
     "start_time": "2023-09-20T14:21:34.066589600Z"
    }
   },
   "id": "initial_id"
  },
  {
   "cell_type": "markdown",
   "source": [
    "## Scraping des données pour la première page web"
   ],
   "metadata": {
    "collapsed": false
   },
   "id": "b8f0af7184752cb1"
  },
  {
   "cell_type": "code",
   "execution_count": 2,
   "outputs": [],
   "source": [
    "url = 'https://ceoworld.biz/2023/08/28/ranked-countries-with-the-highest-share-of-women-in-parliament/'"
   ],
   "metadata": {
    "collapsed": false,
    "ExecuteTime": {
     "end_time": "2023-09-20T14:21:34.878588500Z",
     "start_time": "2023-09-20T14:21:34.854588500Z"
    }
   },
   "id": "b6821ac3b3628109"
  },
  {
   "cell_type": "markdown",
   "source": [
    "Grâce à l'inspecteur de notre navigateur, nous voyons que tout le tableau est contenu dans la balise :\n",
    "`<table id=\"tablepress-674\" class=\"tablepress tablepress-id-674 tablepress-responsive dataTable no-footer\" aria-labelledby=\"tablepress-674-name\" aria-describedby=\"tablepress-674_info\" style=\"width: 670px;\">`,\n",
    "et que chaque ligne est contenue dans une balise : `<tr class=\"even\">` ou `<tr class=\"odd\">`.\n",
    "Finalement, chaque valeur du tableau est contenue dans une balise `<td>`."
   ],
   "metadata": {
    "collapsed": false
   },
   "id": "5d3516681efb051a"
  },
  {
   "cell_type": "code",
   "execution_count": 3,
   "outputs": [
    {
     "data": {
      "text/plain": "[<table aria-labelledby=\"tablepress-674-name\" class=\"tablepress tablepress-id-674 tablepress-responsive\" id=\"tablepress-674\">\n <thead>\n <tr class=\"row-1 odd\">\n <th class=\"column-1\">Global rank </th><th class=\"column-2\">Countries </th><th class=\"column-3\">Women in parliament</th>\n </tr>\n </thead>\n <tbody class=\"row-hover\">\n <tr class=\"row-2 even\">\n <td class=\"column-1\">1</td><td class=\"column-2\">Rwanda</td><td class=\"column-3\">61.25</td>\n </tr>\n <tr class=\"row-3 odd\">\n <td class=\"column-1\">2</td><td class=\"column-2\">Nicaragua</td><td class=\"column-3\">51.65</td>\n </tr>\n <tr class=\"row-4 even\">\n <td class=\"column-1\">3</td><td class=\"column-2\">New Zealand</td><td class=\"column-3\">50.42</td>\n </tr>\n <tr class=\"row-5 odd\">\n <td class=\"column-1\">4</td><td class=\"column-2\">Mexico</td><td class=\"column-3\">50</td>\n </tr>\n <tr class=\"row-6 even\">\n <td class=\"column-1\">5</td><td class=\"column-2\">United Arab Emirates</td><td class=\"column-3\">50</td>\n </tr>\n <tr class=\"row-7 odd\">\n <td class=\"column-1\">6</td><td class=\"column-2\">Iceland</td><td class=\"column-3\">47.62</td>\n </tr>\n <tr class=\"row-8 even\">\n <td class=\"column-1\">7</td><td class=\"column-2\">Costa Rica</td><td class=\"column-3\">47.37</td>\n </tr>\n <tr class=\"row-9 odd\">\n <td class=\"column-1\">8</td><td class=\"column-2\">South Africa</td><td class=\"column-3\">46.5</td>\n </tr>\n <tr class=\"row-10 even\">\n <td class=\"column-1\">9</td><td class=\"column-2\">Andorra</td><td class=\"column-3\">46.43</td>\n </tr>\n <tr class=\"row-11 odd\">\n <td class=\"column-1\">10</td><td class=\"column-2\">Sweden</td><td class=\"column-3\">46.42</td>\n </tr>\n </tbody>\n </table>]"
     },
     "execution_count": 3,
     "metadata": {},
     "output_type": "execute_result"
    }
   ],
   "source": [
    "soup = BeautifulSoup(requests.get(url).content)\n",
    "table_soup = soup.find_all('table', recursive=True)\n",
    "table_soup"
   ],
   "metadata": {
    "collapsed": false,
    "ExecuteTime": {
     "end_time": "2023-09-20T14:21:35.385589500Z",
     "start_time": "2023-09-20T14:21:34.863589400Z"
    }
   },
   "id": "cd2615414247dc16"
  },
  {
   "cell_type": "markdown",
   "source": [
    "Malheureusement, nous n'arrivons pas à extraire toutes les lignes du tableau, car la page web exécute du code JavaScript, et de plus, nous devons appuyer sur le bouton `next` pour accéder aux pages suivantes. Nous devrons donc utiliser Selenium, qui réplique le comportement d'un utilisateur, afin d'extraire les données."
   ],
   "metadata": {
    "collapsed": false
   },
   "id": "31f291bd40d6a30f"
  },
  {
   "cell_type": "code",
   "execution_count": 4,
   "outputs": [
    {
     "ename": "MaxRetryError",
     "evalue": "HTTPConnectionPool(host='localhost', port=63397): Max retries exceeded with url: /session/8ee3cc4b43f0e06c0613444efe0e45c5/source (Caused by NewConnectionError('<urllib3.connection.HTTPConnection object at 0x0000020F7D1B5F30>: Failed to establish a new connection: [WinError 10061] Aucune connexion n’a pu être établie car l’ordinateur cible l’a expressément refusée'))",
     "output_type": "error",
     "traceback": [
      "\u001B[1;31m---------------------------------------------------------------------------\u001B[0m",
      "\u001B[1;31mConnectionRefusedError\u001B[0m                    Traceback (most recent call last)",
      "File \u001B[1;32m~\\.conda\\envs\\Workspace\\lib\\site-packages\\urllib3\\connection.py:200\u001B[0m, in \u001B[0;36mHTTPConnection._new_conn\u001B[1;34m(self)\u001B[0m\n\u001B[0;32m    199\u001B[0m \u001B[38;5;28;01mtry\u001B[39;00m:\n\u001B[1;32m--> 200\u001B[0m     sock \u001B[38;5;241m=\u001B[39m \u001B[43mconnection\u001B[49m\u001B[38;5;241;43m.\u001B[39;49m\u001B[43mcreate_connection\u001B[49m\u001B[43m(\u001B[49m\n\u001B[0;32m    201\u001B[0m \u001B[43m        \u001B[49m\u001B[43m(\u001B[49m\u001B[38;5;28;43mself\u001B[39;49m\u001B[38;5;241;43m.\u001B[39;49m\u001B[43m_dns_host\u001B[49m\u001B[43m,\u001B[49m\u001B[43m \u001B[49m\u001B[38;5;28;43mself\u001B[39;49m\u001B[38;5;241;43m.\u001B[39;49m\u001B[43mport\u001B[49m\u001B[43m)\u001B[49m\u001B[43m,\u001B[49m\n\u001B[0;32m    202\u001B[0m \u001B[43m        \u001B[49m\u001B[38;5;28;43mself\u001B[39;49m\u001B[38;5;241;43m.\u001B[39;49m\u001B[43mtimeout\u001B[49m\u001B[43m,\u001B[49m\n\u001B[0;32m    203\u001B[0m \u001B[43m        \u001B[49m\u001B[43msource_address\u001B[49m\u001B[38;5;241;43m=\u001B[39;49m\u001B[38;5;28;43mself\u001B[39;49m\u001B[38;5;241;43m.\u001B[39;49m\u001B[43msource_address\u001B[49m\u001B[43m,\u001B[49m\n\u001B[0;32m    204\u001B[0m \u001B[43m        \u001B[49m\u001B[43msocket_options\u001B[49m\u001B[38;5;241;43m=\u001B[39;49m\u001B[38;5;28;43mself\u001B[39;49m\u001B[38;5;241;43m.\u001B[39;49m\u001B[43msocket_options\u001B[49m\u001B[43m,\u001B[49m\n\u001B[0;32m    205\u001B[0m \u001B[43m    \u001B[49m\u001B[43m)\u001B[49m\n\u001B[0;32m    206\u001B[0m \u001B[38;5;28;01mexcept\u001B[39;00m socket\u001B[38;5;241m.\u001B[39mgaierror \u001B[38;5;28;01mas\u001B[39;00m e:\n",
      "File \u001B[1;32m~\\.conda\\envs\\Workspace\\lib\\site-packages\\urllib3\\util\\connection.py:85\u001B[0m, in \u001B[0;36mcreate_connection\u001B[1;34m(address, timeout, source_address, socket_options)\u001B[0m\n\u001B[0;32m     84\u001B[0m \u001B[38;5;28;01mtry\u001B[39;00m:\n\u001B[1;32m---> 85\u001B[0m     \u001B[38;5;28;01mraise\u001B[39;00m err\n\u001B[0;32m     86\u001B[0m \u001B[38;5;28;01mfinally\u001B[39;00m:\n\u001B[0;32m     87\u001B[0m     \u001B[38;5;66;03m# Break explicitly a reference cycle\u001B[39;00m\n",
      "File \u001B[1;32m~\\.conda\\envs\\Workspace\\lib\\site-packages\\urllib3\\util\\connection.py:73\u001B[0m, in \u001B[0;36mcreate_connection\u001B[1;34m(address, timeout, source_address, socket_options)\u001B[0m\n\u001B[0;32m     72\u001B[0m     sock\u001B[38;5;241m.\u001B[39mbind(source_address)\n\u001B[1;32m---> 73\u001B[0m \u001B[43msock\u001B[49m\u001B[38;5;241;43m.\u001B[39;49m\u001B[43mconnect\u001B[49m\u001B[43m(\u001B[49m\u001B[43msa\u001B[49m\u001B[43m)\u001B[49m\n\u001B[0;32m     74\u001B[0m \u001B[38;5;66;03m# Break explicitly a reference cycle\u001B[39;00m\n",
      "\u001B[1;31mConnectionRefusedError\u001B[0m: [WinError 10061] Aucune connexion n’a pu être établie car l’ordinateur cible l’a expressément refusée",
      "\nThe above exception was the direct cause of the following exception:\n",
      "\u001B[1;31mNewConnectionError\u001B[0m                        Traceback (most recent call last)",
      "File \u001B[1;32m~\\.conda\\envs\\Workspace\\lib\\site-packages\\urllib3\\connectionpool.py:790\u001B[0m, in \u001B[0;36mHTTPConnectionPool.urlopen\u001B[1;34m(self, method, url, body, headers, retries, redirect, assert_same_host, timeout, pool_timeout, release_conn, chunked, body_pos, preload_content, decode_content, **response_kw)\u001B[0m\n\u001B[0;32m    789\u001B[0m \u001B[38;5;66;03m# Make the request on the HTTPConnection object\u001B[39;00m\n\u001B[1;32m--> 790\u001B[0m response \u001B[38;5;241m=\u001B[39m \u001B[38;5;28mself\u001B[39m\u001B[38;5;241m.\u001B[39m_make_request(\n\u001B[0;32m    791\u001B[0m     conn,\n\u001B[0;32m    792\u001B[0m     method,\n\u001B[0;32m    793\u001B[0m     url,\n\u001B[0;32m    794\u001B[0m     timeout\u001B[38;5;241m=\u001B[39mtimeout_obj,\n\u001B[0;32m    795\u001B[0m     body\u001B[38;5;241m=\u001B[39mbody,\n\u001B[0;32m    796\u001B[0m     headers\u001B[38;5;241m=\u001B[39mheaders,\n\u001B[0;32m    797\u001B[0m     chunked\u001B[38;5;241m=\u001B[39mchunked,\n\u001B[0;32m    798\u001B[0m     retries\u001B[38;5;241m=\u001B[39mretries,\n\u001B[0;32m    799\u001B[0m     response_conn\u001B[38;5;241m=\u001B[39mresponse_conn,\n\u001B[0;32m    800\u001B[0m     preload_content\u001B[38;5;241m=\u001B[39mpreload_content,\n\u001B[0;32m    801\u001B[0m     decode_content\u001B[38;5;241m=\u001B[39mdecode_content,\n\u001B[0;32m    802\u001B[0m     \u001B[38;5;241m*\u001B[39m\u001B[38;5;241m*\u001B[39mresponse_kw,\n\u001B[0;32m    803\u001B[0m )\n\u001B[0;32m    805\u001B[0m \u001B[38;5;66;03m# Everything went great!\u001B[39;00m\n",
      "File \u001B[1;32m~\\.conda\\envs\\Workspace\\lib\\site-packages\\urllib3\\connectionpool.py:496\u001B[0m, in \u001B[0;36mHTTPConnectionPool._make_request\u001B[1;34m(self, conn, method, url, body, headers, retries, timeout, chunked, response_conn, preload_content, decode_content, enforce_content_length)\u001B[0m\n\u001B[0;32m    495\u001B[0m \u001B[38;5;28;01mtry\u001B[39;00m:\n\u001B[1;32m--> 496\u001B[0m     \u001B[43mconn\u001B[49m\u001B[38;5;241;43m.\u001B[39;49m\u001B[43mrequest\u001B[49m\u001B[43m(\u001B[49m\n\u001B[0;32m    497\u001B[0m \u001B[43m        \u001B[49m\u001B[43mmethod\u001B[49m\u001B[43m,\u001B[49m\n\u001B[0;32m    498\u001B[0m \u001B[43m        \u001B[49m\u001B[43murl\u001B[49m\u001B[43m,\u001B[49m\n\u001B[0;32m    499\u001B[0m \u001B[43m        \u001B[49m\u001B[43mbody\u001B[49m\u001B[38;5;241;43m=\u001B[39;49m\u001B[43mbody\u001B[49m\u001B[43m,\u001B[49m\n\u001B[0;32m    500\u001B[0m \u001B[43m        \u001B[49m\u001B[43mheaders\u001B[49m\u001B[38;5;241;43m=\u001B[39;49m\u001B[43mheaders\u001B[49m\u001B[43m,\u001B[49m\n\u001B[0;32m    501\u001B[0m \u001B[43m        \u001B[49m\u001B[43mchunked\u001B[49m\u001B[38;5;241;43m=\u001B[39;49m\u001B[43mchunked\u001B[49m\u001B[43m,\u001B[49m\n\u001B[0;32m    502\u001B[0m \u001B[43m        \u001B[49m\u001B[43mpreload_content\u001B[49m\u001B[38;5;241;43m=\u001B[39;49m\u001B[43mpreload_content\u001B[49m\u001B[43m,\u001B[49m\n\u001B[0;32m    503\u001B[0m \u001B[43m        \u001B[49m\u001B[43mdecode_content\u001B[49m\u001B[38;5;241;43m=\u001B[39;49m\u001B[43mdecode_content\u001B[49m\u001B[43m,\u001B[49m\n\u001B[0;32m    504\u001B[0m \u001B[43m        \u001B[49m\u001B[43menforce_content_length\u001B[49m\u001B[38;5;241;43m=\u001B[39;49m\u001B[43menforce_content_length\u001B[49m\u001B[43m,\u001B[49m\n\u001B[0;32m    505\u001B[0m \u001B[43m    \u001B[49m\u001B[43m)\u001B[49m\n\u001B[0;32m    507\u001B[0m \u001B[38;5;66;03m# We are swallowing BrokenPipeError (errno.EPIPE) since the server is\u001B[39;00m\n\u001B[0;32m    508\u001B[0m \u001B[38;5;66;03m# legitimately able to close the connection after sending a valid response.\u001B[39;00m\n\u001B[0;32m    509\u001B[0m \u001B[38;5;66;03m# With this behaviour, the received response is still readable.\u001B[39;00m\n",
      "File \u001B[1;32m~\\.conda\\envs\\Workspace\\lib\\site-packages\\urllib3\\connection.py:388\u001B[0m, in \u001B[0;36mHTTPConnection.request\u001B[1;34m(self, method, url, body, headers, chunked, preload_content, decode_content, enforce_content_length)\u001B[0m\n\u001B[0;32m    387\u001B[0m     \u001B[38;5;28mself\u001B[39m\u001B[38;5;241m.\u001B[39mputheader(header, value)\n\u001B[1;32m--> 388\u001B[0m \u001B[38;5;28;43mself\u001B[39;49m\u001B[38;5;241;43m.\u001B[39;49m\u001B[43mendheaders\u001B[49m\u001B[43m(\u001B[49m\u001B[43m)\u001B[49m\n\u001B[0;32m    390\u001B[0m \u001B[38;5;66;03m# If we're given a body we start sending that in chunks.\u001B[39;00m\n",
      "File \u001B[1;32m~\\.conda\\envs\\Workspace\\lib\\http\\client.py:1278\u001B[0m, in \u001B[0;36mHTTPConnection.endheaders\u001B[1;34m(self, message_body, encode_chunked)\u001B[0m\n\u001B[0;32m   1277\u001B[0m     \u001B[38;5;28;01mraise\u001B[39;00m CannotSendHeader()\n\u001B[1;32m-> 1278\u001B[0m \u001B[38;5;28;43mself\u001B[39;49m\u001B[38;5;241;43m.\u001B[39;49m\u001B[43m_send_output\u001B[49m\u001B[43m(\u001B[49m\u001B[43mmessage_body\u001B[49m\u001B[43m,\u001B[49m\u001B[43m \u001B[49m\u001B[43mencode_chunked\u001B[49m\u001B[38;5;241;43m=\u001B[39;49m\u001B[43mencode_chunked\u001B[49m\u001B[43m)\u001B[49m\n",
      "File \u001B[1;32m~\\.conda\\envs\\Workspace\\lib\\http\\client.py:1038\u001B[0m, in \u001B[0;36mHTTPConnection._send_output\u001B[1;34m(self, message_body, encode_chunked)\u001B[0m\n\u001B[0;32m   1037\u001B[0m \u001B[38;5;28;01mdel\u001B[39;00m \u001B[38;5;28mself\u001B[39m\u001B[38;5;241m.\u001B[39m_buffer[:]\n\u001B[1;32m-> 1038\u001B[0m \u001B[38;5;28;43mself\u001B[39;49m\u001B[38;5;241;43m.\u001B[39;49m\u001B[43msend\u001B[49m\u001B[43m(\u001B[49m\u001B[43mmsg\u001B[49m\u001B[43m)\u001B[49m\n\u001B[0;32m   1040\u001B[0m \u001B[38;5;28;01mif\u001B[39;00m message_body \u001B[38;5;129;01mis\u001B[39;00m \u001B[38;5;129;01mnot\u001B[39;00m \u001B[38;5;28;01mNone\u001B[39;00m:\n\u001B[0;32m   1041\u001B[0m \n\u001B[0;32m   1042\u001B[0m     \u001B[38;5;66;03m# create a consistent interface to message_body\u001B[39;00m\n",
      "File \u001B[1;32m~\\.conda\\envs\\Workspace\\lib\\http\\client.py:976\u001B[0m, in \u001B[0;36mHTTPConnection.send\u001B[1;34m(self, data)\u001B[0m\n\u001B[0;32m    975\u001B[0m \u001B[38;5;28;01mif\u001B[39;00m \u001B[38;5;28mself\u001B[39m\u001B[38;5;241m.\u001B[39mauto_open:\n\u001B[1;32m--> 976\u001B[0m     \u001B[38;5;28;43mself\u001B[39;49m\u001B[38;5;241;43m.\u001B[39;49m\u001B[43mconnect\u001B[49m\u001B[43m(\u001B[49m\u001B[43m)\u001B[49m\n\u001B[0;32m    977\u001B[0m \u001B[38;5;28;01melse\u001B[39;00m:\n",
      "File \u001B[1;32m~\\.conda\\envs\\Workspace\\lib\\site-packages\\urllib3\\connection.py:236\u001B[0m, in \u001B[0;36mHTTPConnection.connect\u001B[1;34m(self)\u001B[0m\n\u001B[0;32m    235\u001B[0m \u001B[38;5;28;01mdef\u001B[39;00m \u001B[38;5;21mconnect\u001B[39m(\u001B[38;5;28mself\u001B[39m) \u001B[38;5;241m-\u001B[39m\u001B[38;5;241m>\u001B[39m \u001B[38;5;28;01mNone\u001B[39;00m:\n\u001B[1;32m--> 236\u001B[0m     \u001B[38;5;28mself\u001B[39m\u001B[38;5;241m.\u001B[39msock \u001B[38;5;241m=\u001B[39m \u001B[38;5;28;43mself\u001B[39;49m\u001B[38;5;241;43m.\u001B[39;49m\u001B[43m_new_conn\u001B[49m\u001B[43m(\u001B[49m\u001B[43m)\u001B[49m\n\u001B[0;32m    237\u001B[0m     \u001B[38;5;28;01mif\u001B[39;00m \u001B[38;5;28mself\u001B[39m\u001B[38;5;241m.\u001B[39m_tunnel_host:\n\u001B[0;32m    238\u001B[0m         \u001B[38;5;66;03m# If we're tunneling it means we're connected to our proxy.\u001B[39;00m\n",
      "File \u001B[1;32m~\\.conda\\envs\\Workspace\\lib\\site-packages\\urllib3\\connection.py:215\u001B[0m, in \u001B[0;36mHTTPConnection._new_conn\u001B[1;34m(self)\u001B[0m\n\u001B[0;32m    214\u001B[0m \u001B[38;5;28;01mexcept\u001B[39;00m \u001B[38;5;167;01mOSError\u001B[39;00m \u001B[38;5;28;01mas\u001B[39;00m e:\n\u001B[1;32m--> 215\u001B[0m     \u001B[38;5;28;01mraise\u001B[39;00m NewConnectionError(\n\u001B[0;32m    216\u001B[0m         \u001B[38;5;28mself\u001B[39m, \u001B[38;5;124mf\u001B[39m\u001B[38;5;124m\"\u001B[39m\u001B[38;5;124mFailed to establish a new connection: \u001B[39m\u001B[38;5;132;01m{\u001B[39;00me\u001B[38;5;132;01m}\u001B[39;00m\u001B[38;5;124m\"\u001B[39m\n\u001B[0;32m    217\u001B[0m     ) \u001B[38;5;28;01mfrom\u001B[39;00m \u001B[38;5;21;01me\u001B[39;00m\n\u001B[0;32m    219\u001B[0m \u001B[38;5;28;01mreturn\u001B[39;00m sock\n",
      "\u001B[1;31mNewConnectionError\u001B[0m: <urllib3.connection.HTTPConnection object at 0x0000020F7D1B5F30>: Failed to establish a new connection: [WinError 10061] Aucune connexion n’a pu être établie car l’ordinateur cible l’a expressément refusée",
      "\nThe above exception was the direct cause of the following exception:\n",
      "\u001B[1;31mMaxRetryError\u001B[0m                             Traceback (most recent call last)",
      "Cell \u001B[1;32mIn[4], line 6\u001B[0m\n\u001B[0;32m      4\u001B[0m time\u001B[38;5;241m.\u001B[39msleep(\u001B[38;5;241m10\u001B[39m)\n\u001B[0;32m      5\u001B[0m \u001B[38;5;28;01mwhile\u001B[39;00m \u001B[38;5;28;01mTrue\u001B[39;00m:\n\u001B[1;32m----> 6\u001B[0m     soup \u001B[38;5;241m=\u001B[39m BeautifulSoup(\u001B[43mdriver\u001B[49m\u001B[38;5;241;43m.\u001B[39;49m\u001B[43mpage_source\u001B[49m, \u001B[38;5;124m'\u001B[39m\u001B[38;5;124mhtml.parser\u001B[39m\u001B[38;5;124m'\u001B[39m)\n\u001B[0;32m      7\u001B[0m     data\u001B[38;5;241m.\u001B[39mappend(soup\u001B[38;5;241m.\u001B[39mfind_all(\u001B[38;5;124m'\u001B[39m\u001B[38;5;124mtable\u001B[39m\u001B[38;5;124m'\u001B[39m))\n\u001B[0;32m      9\u001B[0m     \u001B[38;5;28;01mtry\u001B[39;00m:\n",
      "File \u001B[1;32m~\\.conda\\envs\\Workspace\\lib\\site-packages\\selenium\\webdriver\\remote\\webdriver.py:445\u001B[0m, in \u001B[0;36mWebDriver.page_source\u001B[1;34m(self)\u001B[0m\n\u001B[0;32m    436\u001B[0m \u001B[38;5;129m@property\u001B[39m\n\u001B[0;32m    437\u001B[0m \u001B[38;5;28;01mdef\u001B[39;00m \u001B[38;5;21mpage_source\u001B[39m(\u001B[38;5;28mself\u001B[39m) \u001B[38;5;241m-\u001B[39m\u001B[38;5;241m>\u001B[39m \u001B[38;5;28mstr\u001B[39m:\n\u001B[0;32m    438\u001B[0m \u001B[38;5;250m    \u001B[39m\u001B[38;5;124;03m\"\"\"Gets the source of the current page.\u001B[39;00m\n\u001B[0;32m    439\u001B[0m \n\u001B[0;32m    440\u001B[0m \u001B[38;5;124;03m    :Usage:\u001B[39;00m\n\u001B[1;32m   (...)\u001B[0m\n\u001B[0;32m    443\u001B[0m \u001B[38;5;124;03m            driver.page_source\u001B[39;00m\n\u001B[0;32m    444\u001B[0m \u001B[38;5;124;03m    \"\"\"\u001B[39;00m\n\u001B[1;32m--> 445\u001B[0m     \u001B[38;5;28;01mreturn\u001B[39;00m \u001B[38;5;28;43mself\u001B[39;49m\u001B[38;5;241;43m.\u001B[39;49m\u001B[43mexecute\u001B[49m\u001B[43m(\u001B[49m\u001B[43mCommand\u001B[49m\u001B[38;5;241;43m.\u001B[39;49m\u001B[43mGET_PAGE_SOURCE\u001B[49m\u001B[43m)\u001B[49m[\u001B[38;5;124m\"\u001B[39m\u001B[38;5;124mvalue\u001B[39m\u001B[38;5;124m\"\u001B[39m]\n",
      "File \u001B[1;32m~\\.conda\\envs\\Workspace\\lib\\site-packages\\selenium\\webdriver\\remote\\webdriver.py:342\u001B[0m, in \u001B[0;36mWebDriver.execute\u001B[1;34m(self, driver_command, params)\u001B[0m\n\u001B[0;32m    339\u001B[0m     \u001B[38;5;28;01melif\u001B[39;00m \u001B[38;5;124m\"\u001B[39m\u001B[38;5;124msessionId\u001B[39m\u001B[38;5;124m\"\u001B[39m \u001B[38;5;129;01mnot\u001B[39;00m \u001B[38;5;129;01min\u001B[39;00m params:\n\u001B[0;32m    340\u001B[0m         params[\u001B[38;5;124m\"\u001B[39m\u001B[38;5;124msessionId\u001B[39m\u001B[38;5;124m\"\u001B[39m] \u001B[38;5;241m=\u001B[39m \u001B[38;5;28mself\u001B[39m\u001B[38;5;241m.\u001B[39msession_id\n\u001B[1;32m--> 342\u001B[0m response \u001B[38;5;241m=\u001B[39m \u001B[38;5;28;43mself\u001B[39;49m\u001B[38;5;241;43m.\u001B[39;49m\u001B[43mcommand_executor\u001B[49m\u001B[38;5;241;43m.\u001B[39;49m\u001B[43mexecute\u001B[49m\u001B[43m(\u001B[49m\u001B[43mdriver_command\u001B[49m\u001B[43m,\u001B[49m\u001B[43m \u001B[49m\u001B[43mparams\u001B[49m\u001B[43m)\u001B[49m\n\u001B[0;32m    343\u001B[0m \u001B[38;5;28;01mif\u001B[39;00m response:\n\u001B[0;32m    344\u001B[0m     \u001B[38;5;28mself\u001B[39m\u001B[38;5;241m.\u001B[39merror_handler\u001B[38;5;241m.\u001B[39mcheck_response(response)\n",
      "File \u001B[1;32m~\\.conda\\envs\\Workspace\\lib\\site-packages\\selenium\\webdriver\\remote\\remote_connection.py:294\u001B[0m, in \u001B[0;36mRemoteConnection.execute\u001B[1;34m(self, command, params)\u001B[0m\n\u001B[0;32m    292\u001B[0m data \u001B[38;5;241m=\u001B[39m utils\u001B[38;5;241m.\u001B[39mdump_json(params)\n\u001B[0;32m    293\u001B[0m url \u001B[38;5;241m=\u001B[39m \u001B[38;5;124mf\u001B[39m\u001B[38;5;124m\"\u001B[39m\u001B[38;5;132;01m{\u001B[39;00m\u001B[38;5;28mself\u001B[39m\u001B[38;5;241m.\u001B[39m_url\u001B[38;5;132;01m}\u001B[39;00m\u001B[38;5;132;01m{\u001B[39;00mpath\u001B[38;5;132;01m}\u001B[39;00m\u001B[38;5;124m\"\u001B[39m\n\u001B[1;32m--> 294\u001B[0m \u001B[38;5;28;01mreturn\u001B[39;00m \u001B[38;5;28;43mself\u001B[39;49m\u001B[38;5;241;43m.\u001B[39;49m\u001B[43m_request\u001B[49m\u001B[43m(\u001B[49m\u001B[43mcommand_info\u001B[49m\u001B[43m[\u001B[49m\u001B[38;5;241;43m0\u001B[39;49m\u001B[43m]\u001B[49m\u001B[43m,\u001B[49m\u001B[43m \u001B[49m\u001B[43murl\u001B[49m\u001B[43m,\u001B[49m\u001B[43m \u001B[49m\u001B[43mbody\u001B[49m\u001B[38;5;241;43m=\u001B[39;49m\u001B[43mdata\u001B[49m\u001B[43m)\u001B[49m\n",
      "File \u001B[1;32m~\\.conda\\envs\\Workspace\\lib\\site-packages\\selenium\\webdriver\\remote\\remote_connection.py:315\u001B[0m, in \u001B[0;36mRemoteConnection._request\u001B[1;34m(self, method, url, body)\u001B[0m\n\u001B[0;32m    312\u001B[0m     body \u001B[38;5;241m=\u001B[39m \u001B[38;5;28;01mNone\u001B[39;00m\n\u001B[0;32m    314\u001B[0m \u001B[38;5;28;01mif\u001B[39;00m \u001B[38;5;28mself\u001B[39m\u001B[38;5;241m.\u001B[39mkeep_alive:\n\u001B[1;32m--> 315\u001B[0m     response \u001B[38;5;241m=\u001B[39m \u001B[38;5;28;43mself\u001B[39;49m\u001B[38;5;241;43m.\u001B[39;49m\u001B[43m_conn\u001B[49m\u001B[38;5;241;43m.\u001B[39;49m\u001B[43mrequest\u001B[49m\u001B[43m(\u001B[49m\u001B[43mmethod\u001B[49m\u001B[43m,\u001B[49m\u001B[43m \u001B[49m\u001B[43murl\u001B[49m\u001B[43m,\u001B[49m\u001B[43m \u001B[49m\u001B[43mbody\u001B[49m\u001B[38;5;241;43m=\u001B[39;49m\u001B[43mbody\u001B[49m\u001B[43m,\u001B[49m\u001B[43m \u001B[49m\u001B[43mheaders\u001B[49m\u001B[38;5;241;43m=\u001B[39;49m\u001B[43mheaders\u001B[49m\u001B[43m)\u001B[49m\n\u001B[0;32m    316\u001B[0m     statuscode \u001B[38;5;241m=\u001B[39m response\u001B[38;5;241m.\u001B[39mstatus\n\u001B[0;32m    317\u001B[0m \u001B[38;5;28;01melse\u001B[39;00m:\n",
      "File \u001B[1;32m~\\.conda\\envs\\Workspace\\lib\\site-packages\\urllib3\\_request_methods.py:110\u001B[0m, in \u001B[0;36mRequestMethods.request\u001B[1;34m(self, method, url, body, fields, headers, json, **urlopen_kw)\u001B[0m\n\u001B[0;32m    107\u001B[0m     urlopen_kw[\u001B[38;5;124m\"\u001B[39m\u001B[38;5;124mbody\u001B[39m\u001B[38;5;124m\"\u001B[39m] \u001B[38;5;241m=\u001B[39m body\n\u001B[0;32m    109\u001B[0m \u001B[38;5;28;01mif\u001B[39;00m method \u001B[38;5;129;01min\u001B[39;00m \u001B[38;5;28mself\u001B[39m\u001B[38;5;241m.\u001B[39m_encode_url_methods:\n\u001B[1;32m--> 110\u001B[0m     \u001B[38;5;28;01mreturn\u001B[39;00m \u001B[38;5;28mself\u001B[39m\u001B[38;5;241m.\u001B[39mrequest_encode_url(\n\u001B[0;32m    111\u001B[0m         method,\n\u001B[0;32m    112\u001B[0m         url,\n\u001B[0;32m    113\u001B[0m         fields\u001B[38;5;241m=\u001B[39mfields,  \u001B[38;5;66;03m# type: ignore[arg-type]\u001B[39;00m\n\u001B[0;32m    114\u001B[0m         headers\u001B[38;5;241m=\u001B[39mheaders,\n\u001B[0;32m    115\u001B[0m         \u001B[38;5;241m*\u001B[39m\u001B[38;5;241m*\u001B[39murlopen_kw,\n\u001B[0;32m    116\u001B[0m     )\n\u001B[0;32m    117\u001B[0m \u001B[38;5;28;01melse\u001B[39;00m:\n\u001B[0;32m    118\u001B[0m     \u001B[38;5;28;01mreturn\u001B[39;00m \u001B[38;5;28mself\u001B[39m\u001B[38;5;241m.\u001B[39mrequest_encode_body(\n\u001B[0;32m    119\u001B[0m         method, url, fields\u001B[38;5;241m=\u001B[39mfields, headers\u001B[38;5;241m=\u001B[39mheaders, \u001B[38;5;241m*\u001B[39m\u001B[38;5;241m*\u001B[39murlopen_kw\n\u001B[0;32m    120\u001B[0m     )\n",
      "File \u001B[1;32m~\\.conda\\envs\\Workspace\\lib\\site-packages\\urllib3\\_request_methods.py:143\u001B[0m, in \u001B[0;36mRequestMethods.request_encode_url\u001B[1;34m(self, method, url, fields, headers, **urlopen_kw)\u001B[0m\n\u001B[0;32m    140\u001B[0m \u001B[38;5;28;01mif\u001B[39;00m fields:\n\u001B[0;32m    141\u001B[0m     url \u001B[38;5;241m+\u001B[39m\u001B[38;5;241m=\u001B[39m \u001B[38;5;124m\"\u001B[39m\u001B[38;5;124m?\u001B[39m\u001B[38;5;124m\"\u001B[39m \u001B[38;5;241m+\u001B[39m urlencode(fields)\n\u001B[1;32m--> 143\u001B[0m \u001B[38;5;28;01mreturn\u001B[39;00m \u001B[38;5;28mself\u001B[39m\u001B[38;5;241m.\u001B[39murlopen(method, url, \u001B[38;5;241m*\u001B[39m\u001B[38;5;241m*\u001B[39mextra_kw)\n",
      "File \u001B[1;32m~\\.conda\\envs\\Workspace\\lib\\site-packages\\urllib3\\poolmanager.py:443\u001B[0m, in \u001B[0;36mPoolManager.urlopen\u001B[1;34m(self, method, url, redirect, **kw)\u001B[0m\n\u001B[0;32m    441\u001B[0m     response \u001B[38;5;241m=\u001B[39m conn\u001B[38;5;241m.\u001B[39murlopen(method, url, \u001B[38;5;241m*\u001B[39m\u001B[38;5;241m*\u001B[39mkw)\n\u001B[0;32m    442\u001B[0m \u001B[38;5;28;01melse\u001B[39;00m:\n\u001B[1;32m--> 443\u001B[0m     response \u001B[38;5;241m=\u001B[39m conn\u001B[38;5;241m.\u001B[39murlopen(method, u\u001B[38;5;241m.\u001B[39mrequest_uri, \u001B[38;5;241m*\u001B[39m\u001B[38;5;241m*\u001B[39mkw)\n\u001B[0;32m    445\u001B[0m redirect_location \u001B[38;5;241m=\u001B[39m redirect \u001B[38;5;129;01mand\u001B[39;00m response\u001B[38;5;241m.\u001B[39mget_redirect_location()\n\u001B[0;32m    446\u001B[0m \u001B[38;5;28;01mif\u001B[39;00m \u001B[38;5;129;01mnot\u001B[39;00m redirect_location:\n",
      "File \u001B[1;32m~\\.conda\\envs\\Workspace\\lib\\site-packages\\urllib3\\connectionpool.py:874\u001B[0m, in \u001B[0;36mHTTPConnectionPool.urlopen\u001B[1;34m(self, method, url, body, headers, retries, redirect, assert_same_host, timeout, pool_timeout, release_conn, chunked, body_pos, preload_content, decode_content, **response_kw)\u001B[0m\n\u001B[0;32m    869\u001B[0m \u001B[38;5;28;01mif\u001B[39;00m \u001B[38;5;129;01mnot\u001B[39;00m conn:\n\u001B[0;32m    870\u001B[0m     \u001B[38;5;66;03m# Try again\u001B[39;00m\n\u001B[0;32m    871\u001B[0m     log\u001B[38;5;241m.\u001B[39mwarning(\n\u001B[0;32m    872\u001B[0m         \u001B[38;5;124m\"\u001B[39m\u001B[38;5;124mRetrying (\u001B[39m\u001B[38;5;132;01m%r\u001B[39;00m\u001B[38;5;124m) after connection broken by \u001B[39m\u001B[38;5;124m'\u001B[39m\u001B[38;5;132;01m%r\u001B[39;00m\u001B[38;5;124m'\u001B[39m\u001B[38;5;124m: \u001B[39m\u001B[38;5;132;01m%s\u001B[39;00m\u001B[38;5;124m\"\u001B[39m, retries, err, url\n\u001B[0;32m    873\u001B[0m     )\n\u001B[1;32m--> 874\u001B[0m     \u001B[38;5;28;01mreturn\u001B[39;00m \u001B[38;5;28mself\u001B[39m\u001B[38;5;241m.\u001B[39murlopen(\n\u001B[0;32m    875\u001B[0m         method,\n\u001B[0;32m    876\u001B[0m         url,\n\u001B[0;32m    877\u001B[0m         body,\n\u001B[0;32m    878\u001B[0m         headers,\n\u001B[0;32m    879\u001B[0m         retries,\n\u001B[0;32m    880\u001B[0m         redirect,\n\u001B[0;32m    881\u001B[0m         assert_same_host,\n\u001B[0;32m    882\u001B[0m         timeout\u001B[38;5;241m=\u001B[39mtimeout,\n\u001B[0;32m    883\u001B[0m         pool_timeout\u001B[38;5;241m=\u001B[39mpool_timeout,\n\u001B[0;32m    884\u001B[0m         release_conn\u001B[38;5;241m=\u001B[39mrelease_conn,\n\u001B[0;32m    885\u001B[0m         chunked\u001B[38;5;241m=\u001B[39mchunked,\n\u001B[0;32m    886\u001B[0m         body_pos\u001B[38;5;241m=\u001B[39mbody_pos,\n\u001B[0;32m    887\u001B[0m         preload_content\u001B[38;5;241m=\u001B[39mpreload_content,\n\u001B[0;32m    888\u001B[0m         decode_content\u001B[38;5;241m=\u001B[39mdecode_content,\n\u001B[0;32m    889\u001B[0m         \u001B[38;5;241m*\u001B[39m\u001B[38;5;241m*\u001B[39mresponse_kw,\n\u001B[0;32m    890\u001B[0m     )\n\u001B[0;32m    892\u001B[0m \u001B[38;5;66;03m# Handle redirect?\u001B[39;00m\n\u001B[0;32m    893\u001B[0m redirect_location \u001B[38;5;241m=\u001B[39m redirect \u001B[38;5;129;01mand\u001B[39;00m response\u001B[38;5;241m.\u001B[39mget_redirect_location()\n",
      "File \u001B[1;32m~\\.conda\\envs\\Workspace\\lib\\site-packages\\urllib3\\connectionpool.py:874\u001B[0m, in \u001B[0;36mHTTPConnectionPool.urlopen\u001B[1;34m(self, method, url, body, headers, retries, redirect, assert_same_host, timeout, pool_timeout, release_conn, chunked, body_pos, preload_content, decode_content, **response_kw)\u001B[0m\n\u001B[0;32m    869\u001B[0m \u001B[38;5;28;01mif\u001B[39;00m \u001B[38;5;129;01mnot\u001B[39;00m conn:\n\u001B[0;32m    870\u001B[0m     \u001B[38;5;66;03m# Try again\u001B[39;00m\n\u001B[0;32m    871\u001B[0m     log\u001B[38;5;241m.\u001B[39mwarning(\n\u001B[0;32m    872\u001B[0m         \u001B[38;5;124m\"\u001B[39m\u001B[38;5;124mRetrying (\u001B[39m\u001B[38;5;132;01m%r\u001B[39;00m\u001B[38;5;124m) after connection broken by \u001B[39m\u001B[38;5;124m'\u001B[39m\u001B[38;5;132;01m%r\u001B[39;00m\u001B[38;5;124m'\u001B[39m\u001B[38;5;124m: \u001B[39m\u001B[38;5;132;01m%s\u001B[39;00m\u001B[38;5;124m\"\u001B[39m, retries, err, url\n\u001B[0;32m    873\u001B[0m     )\n\u001B[1;32m--> 874\u001B[0m     \u001B[38;5;28;01mreturn\u001B[39;00m \u001B[38;5;28mself\u001B[39m\u001B[38;5;241m.\u001B[39murlopen(\n\u001B[0;32m    875\u001B[0m         method,\n\u001B[0;32m    876\u001B[0m         url,\n\u001B[0;32m    877\u001B[0m         body,\n\u001B[0;32m    878\u001B[0m         headers,\n\u001B[0;32m    879\u001B[0m         retries,\n\u001B[0;32m    880\u001B[0m         redirect,\n\u001B[0;32m    881\u001B[0m         assert_same_host,\n\u001B[0;32m    882\u001B[0m         timeout\u001B[38;5;241m=\u001B[39mtimeout,\n\u001B[0;32m    883\u001B[0m         pool_timeout\u001B[38;5;241m=\u001B[39mpool_timeout,\n\u001B[0;32m    884\u001B[0m         release_conn\u001B[38;5;241m=\u001B[39mrelease_conn,\n\u001B[0;32m    885\u001B[0m         chunked\u001B[38;5;241m=\u001B[39mchunked,\n\u001B[0;32m    886\u001B[0m         body_pos\u001B[38;5;241m=\u001B[39mbody_pos,\n\u001B[0;32m    887\u001B[0m         preload_content\u001B[38;5;241m=\u001B[39mpreload_content,\n\u001B[0;32m    888\u001B[0m         decode_content\u001B[38;5;241m=\u001B[39mdecode_content,\n\u001B[0;32m    889\u001B[0m         \u001B[38;5;241m*\u001B[39m\u001B[38;5;241m*\u001B[39mresponse_kw,\n\u001B[0;32m    890\u001B[0m     )\n\u001B[0;32m    892\u001B[0m \u001B[38;5;66;03m# Handle redirect?\u001B[39;00m\n\u001B[0;32m    893\u001B[0m redirect_location \u001B[38;5;241m=\u001B[39m redirect \u001B[38;5;129;01mand\u001B[39;00m response\u001B[38;5;241m.\u001B[39mget_redirect_location()\n",
      "File \u001B[1;32m~\\.conda\\envs\\Workspace\\lib\\site-packages\\urllib3\\connectionpool.py:874\u001B[0m, in \u001B[0;36mHTTPConnectionPool.urlopen\u001B[1;34m(self, method, url, body, headers, retries, redirect, assert_same_host, timeout, pool_timeout, release_conn, chunked, body_pos, preload_content, decode_content, **response_kw)\u001B[0m\n\u001B[0;32m    869\u001B[0m \u001B[38;5;28;01mif\u001B[39;00m \u001B[38;5;129;01mnot\u001B[39;00m conn:\n\u001B[0;32m    870\u001B[0m     \u001B[38;5;66;03m# Try again\u001B[39;00m\n\u001B[0;32m    871\u001B[0m     log\u001B[38;5;241m.\u001B[39mwarning(\n\u001B[0;32m    872\u001B[0m         \u001B[38;5;124m\"\u001B[39m\u001B[38;5;124mRetrying (\u001B[39m\u001B[38;5;132;01m%r\u001B[39;00m\u001B[38;5;124m) after connection broken by \u001B[39m\u001B[38;5;124m'\u001B[39m\u001B[38;5;132;01m%r\u001B[39;00m\u001B[38;5;124m'\u001B[39m\u001B[38;5;124m: \u001B[39m\u001B[38;5;132;01m%s\u001B[39;00m\u001B[38;5;124m\"\u001B[39m, retries, err, url\n\u001B[0;32m    873\u001B[0m     )\n\u001B[1;32m--> 874\u001B[0m     \u001B[38;5;28;01mreturn\u001B[39;00m \u001B[38;5;28mself\u001B[39m\u001B[38;5;241m.\u001B[39murlopen(\n\u001B[0;32m    875\u001B[0m         method,\n\u001B[0;32m    876\u001B[0m         url,\n\u001B[0;32m    877\u001B[0m         body,\n\u001B[0;32m    878\u001B[0m         headers,\n\u001B[0;32m    879\u001B[0m         retries,\n\u001B[0;32m    880\u001B[0m         redirect,\n\u001B[0;32m    881\u001B[0m         assert_same_host,\n\u001B[0;32m    882\u001B[0m         timeout\u001B[38;5;241m=\u001B[39mtimeout,\n\u001B[0;32m    883\u001B[0m         pool_timeout\u001B[38;5;241m=\u001B[39mpool_timeout,\n\u001B[0;32m    884\u001B[0m         release_conn\u001B[38;5;241m=\u001B[39mrelease_conn,\n\u001B[0;32m    885\u001B[0m         chunked\u001B[38;5;241m=\u001B[39mchunked,\n\u001B[0;32m    886\u001B[0m         body_pos\u001B[38;5;241m=\u001B[39mbody_pos,\n\u001B[0;32m    887\u001B[0m         preload_content\u001B[38;5;241m=\u001B[39mpreload_content,\n\u001B[0;32m    888\u001B[0m         decode_content\u001B[38;5;241m=\u001B[39mdecode_content,\n\u001B[0;32m    889\u001B[0m         \u001B[38;5;241m*\u001B[39m\u001B[38;5;241m*\u001B[39mresponse_kw,\n\u001B[0;32m    890\u001B[0m     )\n\u001B[0;32m    892\u001B[0m \u001B[38;5;66;03m# Handle redirect?\u001B[39;00m\n\u001B[0;32m    893\u001B[0m redirect_location \u001B[38;5;241m=\u001B[39m redirect \u001B[38;5;129;01mand\u001B[39;00m response\u001B[38;5;241m.\u001B[39mget_redirect_location()\n",
      "File \u001B[1;32m~\\.conda\\envs\\Workspace\\lib\\site-packages\\urllib3\\connectionpool.py:844\u001B[0m, in \u001B[0;36mHTTPConnectionPool.urlopen\u001B[1;34m(self, method, url, body, headers, retries, redirect, assert_same_host, timeout, pool_timeout, release_conn, chunked, body_pos, preload_content, decode_content, **response_kw)\u001B[0m\n\u001B[0;32m    841\u001B[0m \u001B[38;5;28;01melif\u001B[39;00m \u001B[38;5;28misinstance\u001B[39m(new_e, (\u001B[38;5;167;01mOSError\u001B[39;00m, HTTPException)):\n\u001B[0;32m    842\u001B[0m     new_e \u001B[38;5;241m=\u001B[39m ProtocolError(\u001B[38;5;124m\"\u001B[39m\u001B[38;5;124mConnection aborted.\u001B[39m\u001B[38;5;124m\"\u001B[39m, new_e)\n\u001B[1;32m--> 844\u001B[0m retries \u001B[38;5;241m=\u001B[39m \u001B[43mretries\u001B[49m\u001B[38;5;241;43m.\u001B[39;49m\u001B[43mincrement\u001B[49m\u001B[43m(\u001B[49m\n\u001B[0;32m    845\u001B[0m \u001B[43m    \u001B[49m\u001B[43mmethod\u001B[49m\u001B[43m,\u001B[49m\u001B[43m \u001B[49m\u001B[43murl\u001B[49m\u001B[43m,\u001B[49m\u001B[43m \u001B[49m\u001B[43merror\u001B[49m\u001B[38;5;241;43m=\u001B[39;49m\u001B[43mnew_e\u001B[49m\u001B[43m,\u001B[49m\u001B[43m \u001B[49m\u001B[43m_pool\u001B[49m\u001B[38;5;241;43m=\u001B[39;49m\u001B[38;5;28;43mself\u001B[39;49m\u001B[43m,\u001B[49m\u001B[43m \u001B[49m\u001B[43m_stacktrace\u001B[49m\u001B[38;5;241;43m=\u001B[39;49m\u001B[43msys\u001B[49m\u001B[38;5;241;43m.\u001B[39;49m\u001B[43mexc_info\u001B[49m\u001B[43m(\u001B[49m\u001B[43m)\u001B[49m\u001B[43m[\u001B[49m\u001B[38;5;241;43m2\u001B[39;49m\u001B[43m]\u001B[49m\n\u001B[0;32m    846\u001B[0m \u001B[43m\u001B[49m\u001B[43m)\u001B[49m\n\u001B[0;32m    847\u001B[0m retries\u001B[38;5;241m.\u001B[39msleep()\n\u001B[0;32m    849\u001B[0m \u001B[38;5;66;03m# Keep track of the error for the retry warning.\u001B[39;00m\n",
      "File \u001B[1;32m~\\.conda\\envs\\Workspace\\lib\\site-packages\\urllib3\\util\\retry.py:515\u001B[0m, in \u001B[0;36mRetry.increment\u001B[1;34m(self, method, url, response, error, _pool, _stacktrace)\u001B[0m\n\u001B[0;32m    513\u001B[0m \u001B[38;5;28;01mif\u001B[39;00m new_retry\u001B[38;5;241m.\u001B[39mis_exhausted():\n\u001B[0;32m    514\u001B[0m     reason \u001B[38;5;241m=\u001B[39m error \u001B[38;5;129;01mor\u001B[39;00m ResponseError(cause)\n\u001B[1;32m--> 515\u001B[0m     \u001B[38;5;28;01mraise\u001B[39;00m MaxRetryError(_pool, url, reason) \u001B[38;5;28;01mfrom\u001B[39;00m \u001B[38;5;21;01mreason\u001B[39;00m  \u001B[38;5;66;03m# type: ignore[arg-type]\u001B[39;00m\n\u001B[0;32m    517\u001B[0m log\u001B[38;5;241m.\u001B[39mdebug(\u001B[38;5;124m\"\u001B[39m\u001B[38;5;124mIncremented Retry for (url=\u001B[39m\u001B[38;5;124m'\u001B[39m\u001B[38;5;132;01m%s\u001B[39;00m\u001B[38;5;124m'\u001B[39m\u001B[38;5;124m): \u001B[39m\u001B[38;5;132;01m%r\u001B[39;00m\u001B[38;5;124m\"\u001B[39m, url, new_retry)\n\u001B[0;32m    519\u001B[0m \u001B[38;5;28;01mreturn\u001B[39;00m new_retry\n",
      "\u001B[1;31mMaxRetryError\u001B[0m: HTTPConnectionPool(host='localhost', port=63397): Max retries exceeded with url: /session/8ee3cc4b43f0e06c0613444efe0e45c5/source (Caused by NewConnectionError('<urllib3.connection.HTTPConnection object at 0x0000020F7D1B5F30>: Failed to establish a new connection: [WinError 10061] Aucune connexion n’a pu être établie car l’ordinateur cible l’a expressément refusée'))"
     ]
    }
   ],
   "source": [
    "driver = webdriver.Chrome()\n",
    "driver.get(url)\n",
    "data = []\n",
    "time.sleep(10)\n",
    "while True:\n",
    "    soup = BeautifulSoup(driver.page_source, 'html.parser')\n",
    "    data.append(soup.find_all('table'))\n",
    "\n",
    "    try:\n",
    "        WebDriverWait(driver, 10).until(EC.element_to_be_clickable((By.CSS_SELECTOR, \"#tablepress-674_next\"))).click() \n",
    "        # Le driver trouve le bouton grâce au sélecteur CSS, et attend 10 secondes maximum que celui-ci devienne cliquable. Au bout des dix secondes, si le bouton n'est toujours pas cliquable le code passe au bloc except TimeoutException.\n",
    "\n",
    "        time.sleep(2) # Le driver attend, afin d'être sûr que la nouvelle page soit chargée.\n",
    "        \n",
    "    except TimeoutException:\n",
    "        break  # Si ce code s'exécute, c'est que le driver n'a pas pu cliquer sur le bouton, il n'y a donc plus de pages, donc nous arrêtons la boucle.\n",
    "\n",
    "    finally:\n",
    "        driver.quit()"
   ],
   "metadata": {
    "collapsed": false,
    "ExecuteTime": {
     "end_time": "2023-09-20T14:22:10.952893800Z",
     "start_time": "2023-09-20T14:21:35.387592Z"
    }
   },
   "id": "ab685010586eb315"
  },
  {
   "cell_type": "markdown",
   "source": [
    "Maintenant, filtrons le résultat brut que nous avons obtenu."
   ],
   "metadata": {
    "collapsed": false
   },
   "id": "3922e7432121b12e"
  },
  {
   "cell_type": "code",
   "execution_count": 5,
   "outputs": [
    {
     "data": {
      "text/plain": "[<tr class=\"even\"><td>1</td><td>Rwanda</td><td>61.25</td></tr>,\n <tr class=\"odd\"><td>2</td><td>Nicaragua</td><td>51.65</td></tr>,\n <tr class=\"even\"><td>3</td><td>New Zealand</td><td>50.42</td></tr>,\n <tr class=\"odd\"><td>4</td><td>Mexico</td><td>50</td></tr>,\n <tr class=\"even\"><td>5</td><td>United Arab Emirates</td><td>50</td></tr>,\n <tr class=\"odd\"><td>6</td><td>Iceland</td><td>47.62</td></tr>,\n <tr class=\"even\"><td>7</td><td>Costa Rica</td><td>47.37</td></tr>,\n <tr class=\"odd\"><td>8</td><td>South Africa</td><td>46.5</td></tr>,\n <tr class=\"even\"><td>9</td><td>Andorra</td><td>46.43</td></tr>,\n <tr class=\"odd\"><td>10</td><td>Sweden</td><td>46.42</td></tr>,\n <tr class=\"even\"><td>11</td><td>Bolivia</td><td>46.15</td></tr>,\n <tr class=\"odd\"><td>12</td><td>Finland</td><td>45.5</td></tr>,\n <tr class=\"even\"><td>13</td><td>Norway</td><td>44.97</td></tr>,\n <tr class=\"odd\"><td>14</td><td>Argentina</td><td>44.75</td></tr>,\n <tr class=\"even\"><td>15</td><td>Senegal</td><td>44.24</td></tr>,\n <tr class=\"odd\"><td>16</td><td>Namibia</td><td>44.23</td></tr>,\n <tr class=\"even\"><td>17</td><td>Denmark</td><td>43.58</td></tr>,\n <tr class=\"odd\"><td>18</td><td>Spain</td><td>42.98</td></tr>,\n <tr class=\"even\"><td>19</td><td>Belgium</td><td>42.67</td></tr>,\n <tr class=\"odd\"><td>20</td><td>Mozambique</td><td>42.4</td></tr>,\n <tr class=\"even\"><td>21</td><td>North Macedonia</td><td>41.67</td></tr>,\n <tr class=\"odd\"><td>22</td><td>Switzerland</td><td>41.5</td></tr>,\n <tr class=\"even\"><td>23</td><td>Ethiopia</td><td>41.49</td></tr>,\n <tr class=\"odd\"><td>24</td><td>Austria</td><td>40.98</td></tr>,\n <tr class=\"even\"><td>25</td><td>Netherlands</td><td>40.67</td></tr>,\n <tr class=\"odd\"><td>26</td><td>Moldova</td><td>40.59</td></tr>,\n <tr class=\"even\"><td>27</td><td>Belarus</td><td>40</td></tr>,\n <tr class=\"odd\"><td>28</td><td>Peru</td><td>40</td></tr>,\n <tr class=\"even\"><td>29</td><td>Slovenia</td><td>40</td></tr>,\n <tr class=\"odd\"><td>30</td><td>Cape Verde</td><td>38.89</td></tr>,\n <tr class=\"even\"><td>31</td><td>Ecuador</td><td>38.69</td></tr>,\n <tr class=\"odd\"><td>32</td><td>Australia</td><td>38.40</td></tr>,\n <tr class=\"even\"><td>33</td><td>Burundi</td><td>38.21</td></tr>,\n <tr class=\"odd\"><td>34</td><td>France</td><td>37.26</td></tr>,\n <tr class=\"even\"><td>35</td><td>Portugal</td><td>36.96</td></tr>,\n <tr class=\"odd\"><td>36</td><td>Tanzania</td><td>36.86</td></tr>,\n <tr class=\"even\"><td>37</td><td>Serbia</td><td>36.54</td></tr>,\n <tr class=\"odd\"><td>38</td><td>Albania</td><td>35.71</td></tr>,\n <tr class=\"even\"><td>39</td><td>Armenia</td><td>35.51</td></tr>,\n <tr class=\"odd\"><td>40</td><td>Chile</td><td>35.47</td></tr>,\n <tr class=\"even\"><td>41</td><td>Guyana</td><td>35.38</td></tr>,\n <tr class=\"odd\"><td>42</td><td>Germany</td><td>34.92</td></tr>,\n <tr class=\"even\"><td>43</td><td>United Kingdom</td><td>34.57</td></tr>,\n <tr class=\"odd\"><td>44</td><td>Dominica</td><td>34.38</td></tr>,\n <tr class=\"even\"><td>45</td><td>Cameroon</td><td>33.89</td></tr>,\n <tr class=\"odd\"><td>46</td><td>Uganda</td><td>33.81</td></tr>,\n <tr class=\"even\"><td>47</td><td>Angola</td><td>33.64</td></tr>,\n <tr class=\"odd\"><td>48</td><td>Luxembourg</td><td>33.33</td></tr>,\n <tr class=\"even\"><td>49</td><td>Monaco</td><td>33.33</td></tr>,\n <tr class=\"odd\"><td>50</td><td>San Marino</td><td>33.33</td></tr>]"
     },
     "execution_count": 5,
     "metadata": {},
     "output_type": "execute_result"
    }
   ],
   "source": [
    "data_first_filtering=[]\n",
    "for result_set in data:\n",
    "    for tag in result_set:\n",
    "        rows = tag.find_all('tr', {'class' : ['even', 'odd']})\n",
    "        # On récupère les lignes correspondant à notre filtre\n",
    "        for row in rows:\n",
    "            if row.find('th') is None:\n",
    "                data_first_filtering.append(row)\n",
    "        # On n'append que si la ligne ne contient pas de balise th\n",
    "data_first_filtering"
   ],
   "metadata": {
    "collapsed": false,
    "ExecuteTime": {
     "end_time": "2023-09-20T14:22:27.175895200Z",
     "start_time": "2023-09-20T14:22:27.114896400Z"
    }
   },
   "id": "244555a4ed31daff"
  },
  {
   "cell_type": "markdown",
   "source": [
    "Maintenant, nous devons extraire chaque élément contenu dans les balises td pour chaque balise tr."
   ],
   "metadata": {
    "collapsed": false
   },
   "id": "e9ed103d7dca9051"
  },
  {
   "cell_type": "code",
   "execution_count": 6,
   "outputs": [
    {
     "data": {
      "text/plain": "[[<td>1</td>, <td>Rwanda</td>, <td>61.25</td>],\n [<td>2</td>, <td>Nicaragua</td>, <td>51.65</td>],\n [<td>3</td>, <td>New Zealand</td>, <td>50.42</td>],\n [<td>4</td>, <td>Mexico</td>, <td>50</td>],\n [<td>5</td>, <td>United Arab Emirates</td>, <td>50</td>],\n [<td>6</td>, <td>Iceland</td>, <td>47.62</td>],\n [<td>7</td>, <td>Costa Rica</td>, <td>47.37</td>],\n [<td>8</td>, <td>South Africa</td>, <td>46.5</td>],\n [<td>9</td>, <td>Andorra</td>, <td>46.43</td>],\n [<td>10</td>, <td>Sweden</td>, <td>46.42</td>],\n [<td>11</td>, <td>Bolivia</td>, <td>46.15</td>],\n [<td>12</td>, <td>Finland</td>, <td>45.5</td>],\n [<td>13</td>, <td>Norway</td>, <td>44.97</td>],\n [<td>14</td>, <td>Argentina</td>, <td>44.75</td>],\n [<td>15</td>, <td>Senegal</td>, <td>44.24</td>],\n [<td>16</td>, <td>Namibia</td>, <td>44.23</td>],\n [<td>17</td>, <td>Denmark</td>, <td>43.58</td>],\n [<td>18</td>, <td>Spain</td>, <td>42.98</td>],\n [<td>19</td>, <td>Belgium</td>, <td>42.67</td>],\n [<td>20</td>, <td>Mozambique</td>, <td>42.4</td>],\n [<td>21</td>, <td>North Macedonia</td>, <td>41.67</td>],\n [<td>22</td>, <td>Switzerland</td>, <td>41.5</td>],\n [<td>23</td>, <td>Ethiopia</td>, <td>41.49</td>],\n [<td>24</td>, <td>Austria</td>, <td>40.98</td>],\n [<td>25</td>, <td>Netherlands</td>, <td>40.67</td>],\n [<td>26</td>, <td>Moldova</td>, <td>40.59</td>],\n [<td>27</td>, <td>Belarus</td>, <td>40</td>],\n [<td>28</td>, <td>Peru</td>, <td>40</td>],\n [<td>29</td>, <td>Slovenia</td>, <td>40</td>],\n [<td>30</td>, <td>Cape Verde</td>, <td>38.89</td>],\n [<td>31</td>, <td>Ecuador</td>, <td>38.69</td>],\n [<td>32</td>, <td>Australia</td>, <td>38.40</td>],\n [<td>33</td>, <td>Burundi</td>, <td>38.21</td>],\n [<td>34</td>, <td>France</td>, <td>37.26</td>],\n [<td>35</td>, <td>Portugal</td>, <td>36.96</td>],\n [<td>36</td>, <td>Tanzania</td>, <td>36.86</td>],\n [<td>37</td>, <td>Serbia</td>, <td>36.54</td>],\n [<td>38</td>, <td>Albania</td>, <td>35.71</td>],\n [<td>39</td>, <td>Armenia</td>, <td>35.51</td>],\n [<td>40</td>, <td>Chile</td>, <td>35.47</td>],\n [<td>41</td>, <td>Guyana</td>, <td>35.38</td>],\n [<td>42</td>, <td>Germany</td>, <td>34.92</td>],\n [<td>43</td>, <td>United Kingdom</td>, <td>34.57</td>],\n [<td>44</td>, <td>Dominica</td>, <td>34.38</td>],\n [<td>45</td>, <td>Cameroon</td>, <td>33.89</td>],\n [<td>46</td>, <td>Uganda</td>, <td>33.81</td>],\n [<td>47</td>, <td>Angola</td>, <td>33.64</td>],\n [<td>48</td>, <td>Luxembourg</td>, <td>33.33</td>],\n [<td>49</td>, <td>Monaco</td>, <td>33.33</td>],\n [<td>50</td>, <td>San Marino</td>, <td>33.33</td>]]"
     },
     "execution_count": 6,
     "metadata": {},
     "output_type": "execute_result"
    }
   ],
   "source": [
    "data_second_filtering = list([x.find_all('td') for x in data_first_filtering])\n",
    "data_second_filtering"
   ],
   "metadata": {
    "collapsed": false,
    "ExecuteTime": {
     "end_time": "2023-09-20T14:22:27.455891600Z",
     "start_time": "2023-09-20T14:22:27.409893500Z"
    }
   },
   "id": "9762c03938a6f25"
  },
  {
   "cell_type": "markdown",
   "source": [
    "Rangeons les valeurs des trois colonnes dans trois listes distinctes"
   ],
   "metadata": {
    "collapsed": false
   },
   "id": "a0ad69f59e3572de"
  },
  {
   "cell_type": "code",
   "execution_count": 7,
   "outputs": [],
   "source": [
    "(\n",
    "global_rank,\n",
    "country,\n",
    "women_parliament_percentage\n",
    ")\\\n",
    "=\\\n",
    "(\n",
    "[str(x[0]).replace('<td>', '').replace('</td>', '') for x in data_second_filtering],\n",
    "[str(x[1]).replace('<td>', '').replace('</td>', '') for x in data_second_filtering],\n",
    "[str(x[2]).replace('<td>', '').replace('</td>', '') for x in data_second_filtering]\n",
    ")"
   ],
   "metadata": {
    "collapsed": false,
    "ExecuteTime": {
     "end_time": "2023-09-20T14:22:27.734893600Z",
     "start_time": "2023-09-20T14:22:27.715896200Z"
    }
   },
   "id": "362bb2816c72b2e2"
  },
  {
   "cell_type": "markdown",
   "source": [
    "Nous avons maintenant trois listes que nous allons entrer dans un DataFrame"
   ],
   "metadata": {
    "collapsed": false
   },
   "id": "f1c480b7cce8f8e7"
  },
  {
   "cell_type": "code",
   "execution_count": 8,
   "outputs": [
    {
     "data": {
      "text/plain": "   Global Rank               Country Women Parliament Percentage\n0            1                Rwanda                       61.25\n1            2             Nicaragua                       51.65\n2            3           New Zealand                       50.42\n3            4                Mexico                          50\n4            5  United Arab Emirates                          50\n5            6               Iceland                       47.62\n6            7            Costa Rica                       47.37\n7            8          South Africa                        46.5\n8            9               Andorra                       46.43\n9           10                Sweden                       46.42\n10          11               Bolivia                       46.15\n11          12               Finland                        45.5\n12          13                Norway                       44.97\n13          14             Argentina                       44.75\n14          15               Senegal                       44.24\n15          16               Namibia                       44.23\n16          17               Denmark                       43.58\n17          18                 Spain                       42.98\n18          19               Belgium                       42.67\n19          20            Mozambique                        42.4\n20          21       North Macedonia                       41.67\n21          22           Switzerland                        41.5\n22          23              Ethiopia                       41.49\n23          24               Austria                       40.98\n24          25           Netherlands                       40.67\n25          26               Moldova                       40.59\n26          27               Belarus                          40\n27          28                  Peru                          40\n28          29              Slovenia                          40\n29          30            Cape Verde                       38.89\n30          31               Ecuador                       38.69\n31          32             Australia                       38.40\n32          33               Burundi                       38.21\n33          34                France                       37.26\n34          35              Portugal                       36.96\n35          36              Tanzania                       36.86\n36          37                Serbia                       36.54\n37          38               Albania                       35.71\n38          39               Armenia                       35.51\n39          40                 Chile                       35.47\n40          41                Guyana                       35.38\n41          42               Germany                       34.92\n42          43        United Kingdom                       34.57\n43          44              Dominica                       34.38\n44          45              Cameroon                       33.89\n45          46                Uganda                       33.81\n46          47                Angola                       33.64\n47          48            Luxembourg                       33.33\n48          49                Monaco                       33.33\n49          50            San Marino                       33.33",
      "text/html": "<div>\n<style scoped>\n    .dataframe tbody tr th:only-of-type {\n        vertical-align: middle;\n    }\n\n    .dataframe tbody tr th {\n        vertical-align: top;\n    }\n\n    .dataframe thead th {\n        text-align: right;\n    }\n</style>\n<table border=\"1\" class=\"dataframe\">\n  <thead>\n    <tr style=\"text-align: right;\">\n      <th></th>\n      <th>Global Rank</th>\n      <th>Country</th>\n      <th>Women Parliament Percentage</th>\n    </tr>\n  </thead>\n  <tbody>\n    <tr>\n      <th>0</th>\n      <td>1</td>\n      <td>Rwanda</td>\n      <td>61.25</td>\n    </tr>\n    <tr>\n      <th>1</th>\n      <td>2</td>\n      <td>Nicaragua</td>\n      <td>51.65</td>\n    </tr>\n    <tr>\n      <th>2</th>\n      <td>3</td>\n      <td>New Zealand</td>\n      <td>50.42</td>\n    </tr>\n    <tr>\n      <th>3</th>\n      <td>4</td>\n      <td>Mexico</td>\n      <td>50</td>\n    </tr>\n    <tr>\n      <th>4</th>\n      <td>5</td>\n      <td>United Arab Emirates</td>\n      <td>50</td>\n    </tr>\n    <tr>\n      <th>5</th>\n      <td>6</td>\n      <td>Iceland</td>\n      <td>47.62</td>\n    </tr>\n    <tr>\n      <th>6</th>\n      <td>7</td>\n      <td>Costa Rica</td>\n      <td>47.37</td>\n    </tr>\n    <tr>\n      <th>7</th>\n      <td>8</td>\n      <td>South Africa</td>\n      <td>46.5</td>\n    </tr>\n    <tr>\n      <th>8</th>\n      <td>9</td>\n      <td>Andorra</td>\n      <td>46.43</td>\n    </tr>\n    <tr>\n      <th>9</th>\n      <td>10</td>\n      <td>Sweden</td>\n      <td>46.42</td>\n    </tr>\n    <tr>\n      <th>10</th>\n      <td>11</td>\n      <td>Bolivia</td>\n      <td>46.15</td>\n    </tr>\n    <tr>\n      <th>11</th>\n      <td>12</td>\n      <td>Finland</td>\n      <td>45.5</td>\n    </tr>\n    <tr>\n      <th>12</th>\n      <td>13</td>\n      <td>Norway</td>\n      <td>44.97</td>\n    </tr>\n    <tr>\n      <th>13</th>\n      <td>14</td>\n      <td>Argentina</td>\n      <td>44.75</td>\n    </tr>\n    <tr>\n      <th>14</th>\n      <td>15</td>\n      <td>Senegal</td>\n      <td>44.24</td>\n    </tr>\n    <tr>\n      <th>15</th>\n      <td>16</td>\n      <td>Namibia</td>\n      <td>44.23</td>\n    </tr>\n    <tr>\n      <th>16</th>\n      <td>17</td>\n      <td>Denmark</td>\n      <td>43.58</td>\n    </tr>\n    <tr>\n      <th>17</th>\n      <td>18</td>\n      <td>Spain</td>\n      <td>42.98</td>\n    </tr>\n    <tr>\n      <th>18</th>\n      <td>19</td>\n      <td>Belgium</td>\n      <td>42.67</td>\n    </tr>\n    <tr>\n      <th>19</th>\n      <td>20</td>\n      <td>Mozambique</td>\n      <td>42.4</td>\n    </tr>\n    <tr>\n      <th>20</th>\n      <td>21</td>\n      <td>North Macedonia</td>\n      <td>41.67</td>\n    </tr>\n    <tr>\n      <th>21</th>\n      <td>22</td>\n      <td>Switzerland</td>\n      <td>41.5</td>\n    </tr>\n    <tr>\n      <th>22</th>\n      <td>23</td>\n      <td>Ethiopia</td>\n      <td>41.49</td>\n    </tr>\n    <tr>\n      <th>23</th>\n      <td>24</td>\n      <td>Austria</td>\n      <td>40.98</td>\n    </tr>\n    <tr>\n      <th>24</th>\n      <td>25</td>\n      <td>Netherlands</td>\n      <td>40.67</td>\n    </tr>\n    <tr>\n      <th>25</th>\n      <td>26</td>\n      <td>Moldova</td>\n      <td>40.59</td>\n    </tr>\n    <tr>\n      <th>26</th>\n      <td>27</td>\n      <td>Belarus</td>\n      <td>40</td>\n    </tr>\n    <tr>\n      <th>27</th>\n      <td>28</td>\n      <td>Peru</td>\n      <td>40</td>\n    </tr>\n    <tr>\n      <th>28</th>\n      <td>29</td>\n      <td>Slovenia</td>\n      <td>40</td>\n    </tr>\n    <tr>\n      <th>29</th>\n      <td>30</td>\n      <td>Cape Verde</td>\n      <td>38.89</td>\n    </tr>\n    <tr>\n      <th>30</th>\n      <td>31</td>\n      <td>Ecuador</td>\n      <td>38.69</td>\n    </tr>\n    <tr>\n      <th>31</th>\n      <td>32</td>\n      <td>Australia</td>\n      <td>38.40</td>\n    </tr>\n    <tr>\n      <th>32</th>\n      <td>33</td>\n      <td>Burundi</td>\n      <td>38.21</td>\n    </tr>\n    <tr>\n      <th>33</th>\n      <td>34</td>\n      <td>France</td>\n      <td>37.26</td>\n    </tr>\n    <tr>\n      <th>34</th>\n      <td>35</td>\n      <td>Portugal</td>\n      <td>36.96</td>\n    </tr>\n    <tr>\n      <th>35</th>\n      <td>36</td>\n      <td>Tanzania</td>\n      <td>36.86</td>\n    </tr>\n    <tr>\n      <th>36</th>\n      <td>37</td>\n      <td>Serbia</td>\n      <td>36.54</td>\n    </tr>\n    <tr>\n      <th>37</th>\n      <td>38</td>\n      <td>Albania</td>\n      <td>35.71</td>\n    </tr>\n    <tr>\n      <th>38</th>\n      <td>39</td>\n      <td>Armenia</td>\n      <td>35.51</td>\n    </tr>\n    <tr>\n      <th>39</th>\n      <td>40</td>\n      <td>Chile</td>\n      <td>35.47</td>\n    </tr>\n    <tr>\n      <th>40</th>\n      <td>41</td>\n      <td>Guyana</td>\n      <td>35.38</td>\n    </tr>\n    <tr>\n      <th>41</th>\n      <td>42</td>\n      <td>Germany</td>\n      <td>34.92</td>\n    </tr>\n    <tr>\n      <th>42</th>\n      <td>43</td>\n      <td>United Kingdom</td>\n      <td>34.57</td>\n    </tr>\n    <tr>\n      <th>43</th>\n      <td>44</td>\n      <td>Dominica</td>\n      <td>34.38</td>\n    </tr>\n    <tr>\n      <th>44</th>\n      <td>45</td>\n      <td>Cameroon</td>\n      <td>33.89</td>\n    </tr>\n    <tr>\n      <th>45</th>\n      <td>46</td>\n      <td>Uganda</td>\n      <td>33.81</td>\n    </tr>\n    <tr>\n      <th>46</th>\n      <td>47</td>\n      <td>Angola</td>\n      <td>33.64</td>\n    </tr>\n    <tr>\n      <th>47</th>\n      <td>48</td>\n      <td>Luxembourg</td>\n      <td>33.33</td>\n    </tr>\n    <tr>\n      <th>48</th>\n      <td>49</td>\n      <td>Monaco</td>\n      <td>33.33</td>\n    </tr>\n    <tr>\n      <th>49</th>\n      <td>50</td>\n      <td>San Marino</td>\n      <td>33.33</td>\n    </tr>\n  </tbody>\n</table>\n</div>"
     },
     "execution_count": 8,
     "metadata": {},
     "output_type": "execute_result"
    }
   ],
   "source": [
    "# Transformation de nos listes en séries pour permettre la concaténation\n",
    "global_rank = pd.Series(global_rank)\n",
    "country = pd.Series(country)\n",
    "women_parliament_percentage = pd.Series(women_parliament_percentage)\n",
    "\n",
    "#Concaténation\n",
    "df_parliament = pd.concat([global_rank, country, women_parliament_percentage], axis=1)\n",
    "df_parliament.columns = ['Global Rank', 'Country', 'Women Parliament Percentage']\n",
    "df_parliament"
   ],
   "metadata": {
    "collapsed": false,
    "ExecuteTime": {
     "end_time": "2023-09-20T14:22:28.644922900Z",
     "start_time": "2023-09-20T14:22:28.554893400Z"
    }
   },
   "id": "7abb7880457d969a"
  },
  {
   "cell_type": "markdown",
   "source": [
    "Notre premier dataframe est prêt, nous allons maintenant répéter l'opération pour une deuxième page."
   ],
   "metadata": {
    "collapsed": false
   },
   "id": "3d090f5649f2b7a9"
  },
  {
   "cell_type": "markdown",
   "source": [
    "## Scraping des données pour la deuxième page web"
   ],
   "metadata": {
    "collapsed": false
   },
   "id": "5a122ae7c358ba68"
  },
  {
   "cell_type": "code",
   "execution_count": 9,
   "outputs": [],
   "source": [
    "url = 'https://ceoworld.biz/2021/06/11/the-worlds-best-countries-for-women-2021/'"
   ],
   "metadata": {
    "collapsed": false,
    "ExecuteTime": {
     "end_time": "2023-09-20T14:22:29.534893400Z",
     "start_time": "2023-09-20T14:22:29.400894300Z"
    }
   },
   "id": "8db76d07ae2e4e84"
  },
  {
   "cell_type": "code",
   "execution_count": 10,
   "outputs": [
    {
     "data": {
      "text/plain": "     Rank                   Country  Score\n0       1               Netherlands  99.70\n1       2                    Norway  99.40\n2       3                    Sweden  99.20\n3       4                   Denmark  98.70\n4       5                   Finland  98.30\n..    ...                       ...    ...\n151   152                     Niger  23.56\n152   153                     Syria  21.98\n153   154                      Chad  19.30\n154   155                   Somalia  14.68\n155   156  Central African Republic  12.93\n\n[156 rows x 3 columns]",
      "text/html": "<div>\n<style scoped>\n    .dataframe tbody tr th:only-of-type {\n        vertical-align: middle;\n    }\n\n    .dataframe tbody tr th {\n        vertical-align: top;\n    }\n\n    .dataframe thead th {\n        text-align: right;\n    }\n</style>\n<table border=\"1\" class=\"dataframe\">\n  <thead>\n    <tr style=\"text-align: right;\">\n      <th></th>\n      <th>Rank</th>\n      <th>Country</th>\n      <th>Score</th>\n    </tr>\n  </thead>\n  <tbody>\n    <tr>\n      <th>0</th>\n      <td>1</td>\n      <td>Netherlands</td>\n      <td>99.70</td>\n    </tr>\n    <tr>\n      <th>1</th>\n      <td>2</td>\n      <td>Norway</td>\n      <td>99.40</td>\n    </tr>\n    <tr>\n      <th>2</th>\n      <td>3</td>\n      <td>Sweden</td>\n      <td>99.20</td>\n    </tr>\n    <tr>\n      <th>3</th>\n      <td>4</td>\n      <td>Denmark</td>\n      <td>98.70</td>\n    </tr>\n    <tr>\n      <th>4</th>\n      <td>5</td>\n      <td>Finland</td>\n      <td>98.30</td>\n    </tr>\n    <tr>\n      <th>...</th>\n      <td>...</td>\n      <td>...</td>\n      <td>...</td>\n    </tr>\n    <tr>\n      <th>151</th>\n      <td>152</td>\n      <td>Niger</td>\n      <td>23.56</td>\n    </tr>\n    <tr>\n      <th>152</th>\n      <td>153</td>\n      <td>Syria</td>\n      <td>21.98</td>\n    </tr>\n    <tr>\n      <th>153</th>\n      <td>154</td>\n      <td>Chad</td>\n      <td>19.30</td>\n    </tr>\n    <tr>\n      <th>154</th>\n      <td>155</td>\n      <td>Somalia</td>\n      <td>14.68</td>\n    </tr>\n    <tr>\n      <th>155</th>\n      <td>156</td>\n      <td>Central African Republic</td>\n      <td>12.93</td>\n    </tr>\n  </tbody>\n</table>\n<p>156 rows × 3 columns</p>\n</div>"
     },
     "execution_count": 10,
     "metadata": {},
     "output_type": "execute_result"
    }
   ],
   "source": [
    "df_score = pd.read_html(url)[0]\n",
    "df_score"
   ],
   "metadata": {
    "collapsed": false,
    "ExecuteTime": {
     "end_time": "2023-09-20T14:22:29.755892600Z",
     "start_time": "2023-09-20T14:22:29.471893900Z"
    }
   },
   "id": "d7dcb558cdae31b4"
  },
  {
   "cell_type": "code",
   "execution_count": 11,
   "outputs": [
    {
     "data": {
      "text/plain": "                 Country Women Parliament Percentage  Score\n0            New Zealand                       50.42  96.80\n1                 Mexico                          50  83.79\n2   United Arab Emirates                          50  73.16\n3                Iceland                       47.62  88.73\n4             Costa Rica                       47.37  77.75\n5           South Africa                        46.5  71.01\n6                Andorra                       46.43  86.60\n7                 Sweden                       46.42  99.20\n8                Bolivia                       46.15  77.95\n9                Finland                        45.5  98.30\n10                Norway                       44.97  99.40\n11             Argentina                       44.75  79.08\n12               Senegal                       44.24  51.26\n13               Namibia                       44.23  70.61\n14               Denmark                       43.58  98.70\n15                 Spain                       42.98  94.40\n16               Belgium                       42.67  89.11\n17            Mozambique                        42.4  72.02\n18       North Macedonia                       41.67  82.48\n19           Switzerland                        41.5  97.10\n20              Ethiopia                       41.49  44.73\n21               Austria                       40.98  95.20\n22           Netherlands                       40.67  99.70\n23               Moldova                       40.59  83.26\n24               Belarus                          40  77.28\n25                  Peru                          40  78.86\n26              Slovenia                          40  82.38\n27               Ecuador                       38.69  76.56\n28             Australia                       38.40  92.08\n29                France                       37.26  96.40\n30              Portugal                       36.96  91.23\n31              Tanzania                       36.86  68.06\n32                Serbia                       36.54  84.64\n33               Albania                       35.71  82.87\n34               Armenia                       35.51  82.95\n35                 Chile                       35.47  77.16\n36                Guyana                       35.38  76.46\n37               Germany                       34.92  95.90\n38        United Kingdom                       34.57  91.26\n39              Cameroon                       33.89  71.38\n40                Uganda                       33.81  46.91\n41                Angola                       33.64  42.25\n42            Luxembourg                       33.33  95.70\n43                Monaco                       33.33  88.23\n44            San Marino                       33.33  87.76",
      "text/html": "<div>\n<style scoped>\n    .dataframe tbody tr th:only-of-type {\n        vertical-align: middle;\n    }\n\n    .dataframe tbody tr th {\n        vertical-align: top;\n    }\n\n    .dataframe thead th {\n        text-align: right;\n    }\n</style>\n<table border=\"1\" class=\"dataframe\">\n  <thead>\n    <tr style=\"text-align: right;\">\n      <th></th>\n      <th>Country</th>\n      <th>Women Parliament Percentage</th>\n      <th>Score</th>\n    </tr>\n  </thead>\n  <tbody>\n    <tr>\n      <th>0</th>\n      <td>New Zealand</td>\n      <td>50.42</td>\n      <td>96.80</td>\n    </tr>\n    <tr>\n      <th>1</th>\n      <td>Mexico</td>\n      <td>50</td>\n      <td>83.79</td>\n    </tr>\n    <tr>\n      <th>2</th>\n      <td>United Arab Emirates</td>\n      <td>50</td>\n      <td>73.16</td>\n    </tr>\n    <tr>\n      <th>3</th>\n      <td>Iceland</td>\n      <td>47.62</td>\n      <td>88.73</td>\n    </tr>\n    <tr>\n      <th>4</th>\n      <td>Costa Rica</td>\n      <td>47.37</td>\n      <td>77.75</td>\n    </tr>\n    <tr>\n      <th>5</th>\n      <td>South Africa</td>\n      <td>46.5</td>\n      <td>71.01</td>\n    </tr>\n    <tr>\n      <th>6</th>\n      <td>Andorra</td>\n      <td>46.43</td>\n      <td>86.60</td>\n    </tr>\n    <tr>\n      <th>7</th>\n      <td>Sweden</td>\n      <td>46.42</td>\n      <td>99.20</td>\n    </tr>\n    <tr>\n      <th>8</th>\n      <td>Bolivia</td>\n      <td>46.15</td>\n      <td>77.95</td>\n    </tr>\n    <tr>\n      <th>9</th>\n      <td>Finland</td>\n      <td>45.5</td>\n      <td>98.30</td>\n    </tr>\n    <tr>\n      <th>10</th>\n      <td>Norway</td>\n      <td>44.97</td>\n      <td>99.40</td>\n    </tr>\n    <tr>\n      <th>11</th>\n      <td>Argentina</td>\n      <td>44.75</td>\n      <td>79.08</td>\n    </tr>\n    <tr>\n      <th>12</th>\n      <td>Senegal</td>\n      <td>44.24</td>\n      <td>51.26</td>\n    </tr>\n    <tr>\n      <th>13</th>\n      <td>Namibia</td>\n      <td>44.23</td>\n      <td>70.61</td>\n    </tr>\n    <tr>\n      <th>14</th>\n      <td>Denmark</td>\n      <td>43.58</td>\n      <td>98.70</td>\n    </tr>\n    <tr>\n      <th>15</th>\n      <td>Spain</td>\n      <td>42.98</td>\n      <td>94.40</td>\n    </tr>\n    <tr>\n      <th>16</th>\n      <td>Belgium</td>\n      <td>42.67</td>\n      <td>89.11</td>\n    </tr>\n    <tr>\n      <th>17</th>\n      <td>Mozambique</td>\n      <td>42.4</td>\n      <td>72.02</td>\n    </tr>\n    <tr>\n      <th>18</th>\n      <td>North Macedonia</td>\n      <td>41.67</td>\n      <td>82.48</td>\n    </tr>\n    <tr>\n      <th>19</th>\n      <td>Switzerland</td>\n      <td>41.5</td>\n      <td>97.10</td>\n    </tr>\n    <tr>\n      <th>20</th>\n      <td>Ethiopia</td>\n      <td>41.49</td>\n      <td>44.73</td>\n    </tr>\n    <tr>\n      <th>21</th>\n      <td>Austria</td>\n      <td>40.98</td>\n      <td>95.20</td>\n    </tr>\n    <tr>\n      <th>22</th>\n      <td>Netherlands</td>\n      <td>40.67</td>\n      <td>99.70</td>\n    </tr>\n    <tr>\n      <th>23</th>\n      <td>Moldova</td>\n      <td>40.59</td>\n      <td>83.26</td>\n    </tr>\n    <tr>\n      <th>24</th>\n      <td>Belarus</td>\n      <td>40</td>\n      <td>77.28</td>\n    </tr>\n    <tr>\n      <th>25</th>\n      <td>Peru</td>\n      <td>40</td>\n      <td>78.86</td>\n    </tr>\n    <tr>\n      <th>26</th>\n      <td>Slovenia</td>\n      <td>40</td>\n      <td>82.38</td>\n    </tr>\n    <tr>\n      <th>27</th>\n      <td>Ecuador</td>\n      <td>38.69</td>\n      <td>76.56</td>\n    </tr>\n    <tr>\n      <th>28</th>\n      <td>Australia</td>\n      <td>38.40</td>\n      <td>92.08</td>\n    </tr>\n    <tr>\n      <th>29</th>\n      <td>France</td>\n      <td>37.26</td>\n      <td>96.40</td>\n    </tr>\n    <tr>\n      <th>30</th>\n      <td>Portugal</td>\n      <td>36.96</td>\n      <td>91.23</td>\n    </tr>\n    <tr>\n      <th>31</th>\n      <td>Tanzania</td>\n      <td>36.86</td>\n      <td>68.06</td>\n    </tr>\n    <tr>\n      <th>32</th>\n      <td>Serbia</td>\n      <td>36.54</td>\n      <td>84.64</td>\n    </tr>\n    <tr>\n      <th>33</th>\n      <td>Albania</td>\n      <td>35.71</td>\n      <td>82.87</td>\n    </tr>\n    <tr>\n      <th>34</th>\n      <td>Armenia</td>\n      <td>35.51</td>\n      <td>82.95</td>\n    </tr>\n    <tr>\n      <th>35</th>\n      <td>Chile</td>\n      <td>35.47</td>\n      <td>77.16</td>\n    </tr>\n    <tr>\n      <th>36</th>\n      <td>Guyana</td>\n      <td>35.38</td>\n      <td>76.46</td>\n    </tr>\n    <tr>\n      <th>37</th>\n      <td>Germany</td>\n      <td>34.92</td>\n      <td>95.90</td>\n    </tr>\n    <tr>\n      <th>38</th>\n      <td>United Kingdom</td>\n      <td>34.57</td>\n      <td>91.26</td>\n    </tr>\n    <tr>\n      <th>39</th>\n      <td>Cameroon</td>\n      <td>33.89</td>\n      <td>71.38</td>\n    </tr>\n    <tr>\n      <th>40</th>\n      <td>Uganda</td>\n      <td>33.81</td>\n      <td>46.91</td>\n    </tr>\n    <tr>\n      <th>41</th>\n      <td>Angola</td>\n      <td>33.64</td>\n      <td>42.25</td>\n    </tr>\n    <tr>\n      <th>42</th>\n      <td>Luxembourg</td>\n      <td>33.33</td>\n      <td>95.70</td>\n    </tr>\n    <tr>\n      <th>43</th>\n      <td>Monaco</td>\n      <td>33.33</td>\n      <td>88.23</td>\n    </tr>\n    <tr>\n      <th>44</th>\n      <td>San Marino</td>\n      <td>33.33</td>\n      <td>87.76</td>\n    </tr>\n  </tbody>\n</table>\n</div>"
     },
     "execution_count": 11,
     "metadata": {},
     "output_type": "execute_result"
    }
   ],
   "source": [
    "df_analyse = pd.merge(df_parliament, df_score, how='inner', on='Country')\n",
    "df_analyse.drop(columns=['Global Rank', 'Rank'], inplace=True)\n",
    "df_analyse"
   ],
   "metadata": {
    "collapsed": false,
    "ExecuteTime": {
     "end_time": "2023-09-20T14:22:29.817894500Z",
     "start_time": "2023-09-20T14:22:29.749893100Z"
    }
   },
   "id": "3a1d21703de01198"
  },
  {
   "cell_type": "markdown",
   "source": [
    "Maintenant exportons le DataFrame en fichier CSV afin de l'importer ensuite dans PowerBI"
   ],
   "metadata": {
    "collapsed": false
   },
   "id": "571288aac9bd503e"
  },
  {
   "cell_type": "code",
   "execution_count": 12,
   "outputs": [],
   "source": [
    "df_analyse.to_csv('df_analyse.csv', index=False)\n",
    "df_analyse.to_csv('df_analyse.csv', index=False)"
   ],
   "metadata": {
    "collapsed": false,
    "ExecuteTime": {
     "end_time": "2023-09-20T14:22:31.212893Z",
     "start_time": "2023-09-20T14:22:31.153893600Z"
    }
   },
   "id": "c21a1ae37e8ee785"
  }
 ],
 "metadata": {
  "kernelspec": {
   "display_name": "Python 3",
   "language": "python",
   "name": "python3"
  },
  "language_info": {
   "codemirror_mode": {
    "name": "ipython",
    "version": 2
   },
   "file_extension": ".py",
   "mimetype": "text/x-python",
   "name": "python",
   "nbconvert_exporter": "python",
   "pygments_lexer": "ipython2",
   "version": "2.7.6"
  }
 },
 "nbformat": 4,
 "nbformat_minor": 5
}
